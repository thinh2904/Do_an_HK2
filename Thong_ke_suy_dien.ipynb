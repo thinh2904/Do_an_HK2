{
  "nbformat": 4,
  "nbformat_minor": 0,
  "metadata": {
    "colab": {
      "name": "Thong_ke_suy_dien.ipynb",
      "provenance": [],
      "collapsed_sections": [
        "CQaXlxBIgDDP",
        "kcHGnF0oFp4F",
        "9P7pqAIfgpAf",
        "mIxD93nrg9gx"
      ]
    },
    "kernelspec": {
      "name": "python3",
      "display_name": "Python 3"
    },
    "language_info": {
      "name": "python"
    }
  },
  "cells": [
    {
      "cell_type": "markdown",
      "metadata": {
        "id": "eKm4tfAtiqBS"
      },
      "source": [
        "# ĐỒ ÁN KẾT THÚC HỌC PHẦN\n",
        "*Thống kê suy diễn*"
      ]
    },
    {
      "cell_type": "code",
      "metadata": {
        "id": "0rF7fzDmFIUr"
      },
      "source": [
        "import numpy as np\n",
        "import pandas as pd\n",
        "from scipy import stats\n",
        "import seaborn as sns\n",
        "from matplotlib import pyplot as plt\n",
        "import statsmodels.api as sm\n",
        "from statsmodels.formula.api import ols\n",
        "import statsmodels.api as sm\n",
        "from statsmodels.stats.multicomp import pairwise_tukeyhsd"
      ],
      "execution_count": 317,
      "outputs": []
    },
    {
      "cell_type": "code",
      "metadata": {
        "id": "F2g1VMJAFRTP"
      },
      "source": [
        "df = pd.read_csv('Diet_R.csv')"
      ],
      "execution_count": 318,
      "outputs": []
    },
    {
      "cell_type": "code",
      "metadata": {
        "colab": {
          "base_uri": "https://localhost:8080/",
          "height": 357
        },
        "id": "OWa9W7YQFUIM",
        "outputId": "7cfc636e-70f6-4ee3-8f8f-3e5c0c613725"
      },
      "source": [
        "df.head(10)"
      ],
      "execution_count": 319,
      "outputs": [
        {
          "output_type": "execute_result",
          "data": {
            "text/html": [
              "<div>\n",
              "<style scoped>\n",
              "    .dataframe tbody tr th:only-of-type {\n",
              "        vertical-align: middle;\n",
              "    }\n",
              "\n",
              "    .dataframe tbody tr th {\n",
              "        vertical-align: top;\n",
              "    }\n",
              "\n",
              "    .dataframe thead th {\n",
              "        text-align: right;\n",
              "    }\n",
              "</style>\n",
              "<table border=\"1\" class=\"dataframe\">\n",
              "  <thead>\n",
              "    <tr style=\"text-align: right;\">\n",
              "      <th></th>\n",
              "      <th>Person</th>\n",
              "      <th>gender</th>\n",
              "      <th>Age</th>\n",
              "      <th>Height</th>\n",
              "      <th>pre.weight</th>\n",
              "      <th>Diet</th>\n",
              "      <th>weight6weeks</th>\n",
              "    </tr>\n",
              "  </thead>\n",
              "  <tbody>\n",
              "    <tr>\n",
              "      <th>0</th>\n",
              "      <td>25</td>\n",
              "      <td></td>\n",
              "      <td>41</td>\n",
              "      <td>171</td>\n",
              "      <td>60</td>\n",
              "      <td>2</td>\n",
              "      <td>60.0</td>\n",
              "    </tr>\n",
              "    <tr>\n",
              "      <th>1</th>\n",
              "      <td>26</td>\n",
              "      <td></td>\n",
              "      <td>32</td>\n",
              "      <td>174</td>\n",
              "      <td>103</td>\n",
              "      <td>2</td>\n",
              "      <td>103.0</td>\n",
              "    </tr>\n",
              "    <tr>\n",
              "      <th>2</th>\n",
              "      <td>1</td>\n",
              "      <td>0</td>\n",
              "      <td>22</td>\n",
              "      <td>159</td>\n",
              "      <td>58</td>\n",
              "      <td>1</td>\n",
              "      <td>54.2</td>\n",
              "    </tr>\n",
              "    <tr>\n",
              "      <th>3</th>\n",
              "      <td>2</td>\n",
              "      <td>0</td>\n",
              "      <td>46</td>\n",
              "      <td>192</td>\n",
              "      <td>60</td>\n",
              "      <td>1</td>\n",
              "      <td>54.0</td>\n",
              "    </tr>\n",
              "    <tr>\n",
              "      <th>4</th>\n",
              "      <td>3</td>\n",
              "      <td>0</td>\n",
              "      <td>55</td>\n",
              "      <td>170</td>\n",
              "      <td>64</td>\n",
              "      <td>1</td>\n",
              "      <td>63.3</td>\n",
              "    </tr>\n",
              "    <tr>\n",
              "      <th>5</th>\n",
              "      <td>4</td>\n",
              "      <td>0</td>\n",
              "      <td>33</td>\n",
              "      <td>171</td>\n",
              "      <td>64</td>\n",
              "      <td>1</td>\n",
              "      <td>61.1</td>\n",
              "    </tr>\n",
              "    <tr>\n",
              "      <th>6</th>\n",
              "      <td>5</td>\n",
              "      <td>0</td>\n",
              "      <td>50</td>\n",
              "      <td>170</td>\n",
              "      <td>65</td>\n",
              "      <td>1</td>\n",
              "      <td>62.2</td>\n",
              "    </tr>\n",
              "    <tr>\n",
              "      <th>7</th>\n",
              "      <td>6</td>\n",
              "      <td>0</td>\n",
              "      <td>50</td>\n",
              "      <td>201</td>\n",
              "      <td>66</td>\n",
              "      <td>1</td>\n",
              "      <td>64.0</td>\n",
              "    </tr>\n",
              "    <tr>\n",
              "      <th>8</th>\n",
              "      <td>7</td>\n",
              "      <td>0</td>\n",
              "      <td>37</td>\n",
              "      <td>174</td>\n",
              "      <td>67</td>\n",
              "      <td>1</td>\n",
              "      <td>65.0</td>\n",
              "    </tr>\n",
              "    <tr>\n",
              "      <th>9</th>\n",
              "      <td>8</td>\n",
              "      <td>0</td>\n",
              "      <td>28</td>\n",
              "      <td>176</td>\n",
              "      <td>69</td>\n",
              "      <td>1</td>\n",
              "      <td>60.5</td>\n",
              "    </tr>\n",
              "  </tbody>\n",
              "</table>\n",
              "</div>"
            ],
            "text/plain": [
              "   Person gender  Age  Height  pre.weight  Diet  weight6weeks\n",
              "0      25          41     171          60     2          60.0\n",
              "1      26          32     174         103     2         103.0\n",
              "2       1      0   22     159          58     1          54.2\n",
              "3       2      0   46     192          60     1          54.0\n",
              "4       3      0   55     170          64     1          63.3\n",
              "5       4      0   33     171          64     1          61.1\n",
              "6       5      0   50     170          65     1          62.2\n",
              "7       6      0   50     201          66     1          64.0\n",
              "8       7      0   37     174          67     1          65.0\n",
              "9       8      0   28     176          69     1          60.5"
            ]
          },
          "metadata": {
            "tags": []
          },
          "execution_count": 319
        }
      ]
    },
    {
      "cell_type": "markdown",
      "metadata": {
        "id": "CQaXlxBIgDDP"
      },
      "source": [
        "# Tạo hàm"
      ]
    },
    {
      "cell_type": "code",
      "metadata": {
        "id": "O8lpVMDfVmTa"
      },
      "source": [
        "def results(p, alpha=0.05):\n",
        "  cols=['f_score', 'p_value', 'KetLuan']\n",
        "  if p['p_value'] < alpha:\n",
        "    p['KetLuan'] = f\"Chấp nhận H1 với mức ý nghĩa {alpha}\"\n",
        "  if p['p_value'] >= alpha:\n",
        "    p['KetLuan'] = f\"Chấp nhận H0 với mức ý nghĩa {alpha}\"\n",
        "  df = pd.DataFrame(p, index=[''])\n",
        "  return df[cols]"
      ],
      "execution_count": 320,
      "outputs": []
    },
    {
      "cell_type": "code",
      "metadata": {
        "id": "-m9QiwemcmM6"
      },
      "source": [
        "def kt_phan_phoi_chuan(data):\n",
        "  k, p = stats.kstest(rvs=data, cdf='norm', args=(np.mean(data), np.std(data)))\n",
        "  if p > 0.05:\n",
        "    print('''Chưa có bằng chứng thống kê để bác bỏ giả thuyết H0. Điều này ngụ ý rằng các mẫu hiện tại tuân theo luật phân phối chuẩn''')\n",
        "  else:\n",
        "    print('''Có bằng chứng thống kê để bác bỏ giả thuyết H0. Điều này ngụ ý rằng các mẫu hiện tại không tuân theo luật phân phối chuẩn''')"
      ],
      "execution_count": 321,
      "outputs": []
    },
    {
      "cell_type": "code",
      "metadata": {
        "id": "1xoSatINfCR9"
      },
      "source": [
        "def qq_plot(data):\n",
        "  def standadize(data):\n",
        "    mean = np.mean(data)\n",
        "    std = np.std(data)\n",
        "    return (data - mean)/std   \n",
        "     \n",
        "  sm.qqplot(standadize(data), line ='45')\n",
        "  plt.show()"
      ],
      "execution_count": 322,
      "outputs": []
    },
    {
      "cell_type": "code",
      "metadata": {
        "id": "xp-HxpRPfTv7"
      },
      "source": [
        "def hist_plot(data):\n",
        "  mean = np.mean(data)\n",
        "  std = np.std(data, ddof=1)\n",
        "  domain = np.linspace(np.min(data), np.max(data))\n",
        "  plt.plot(domain, stats.norm.pdf(domain, mean, std), color='blue')\n",
        "  plt.hist(data, color='red', edgecolor='black', density=True)  "
      ],
      "execution_count": 323,
      "outputs": []
    },
    {
      "cell_type": "markdown",
      "metadata": {
        "id": "kcHGnF0oFp4F"
      },
      "source": [
        "#Nghiên cứu sự giảm cân của 3 phương pháp khác nhau"
      ]
    },
    {
      "cell_type": "markdown",
      "metadata": {
        "id": "CnM_gPSzHiI2"
      },
      "source": [
        "**Phát biểu giả thuyết:**\n",
        "\n",
        "$H_{0}$: Không có sự khác biệt về hiệu quả giữa các phương pháp giảm cân\n",
        "\n",
        "$H_{a}$: Tồn tại ít nhất 2 phương pháp có hiệu quả giảm cân khác nhau"
      ]
    },
    {
      "cell_type": "markdown",
      "metadata": {
        "id": "ZIyCoBhYHZ5j"
      },
      "source": [
        "Tính số cân nặng đã giảm"
      ]
    },
    {
      "cell_type": "code",
      "metadata": {
        "id": "mNO49BxSFn0B"
      },
      "source": [
        "df['weightloss'] = df['pre.weight'] - df['weight6weeks']"
      ],
      "execution_count": 324,
      "outputs": []
    },
    {
      "cell_type": "code",
      "metadata": {
        "id": "fZR6ym_oF4pg"
      },
      "source": [
        "df_diet_loss = df[['Diet','weightloss']].copy()"
      ],
      "execution_count": 325,
      "outputs": []
    },
    {
      "cell_type": "code",
      "metadata": {
        "colab": {
          "base_uri": "https://localhost:8080/",
          "height": 417
        },
        "id": "2j1uR05aF9tv",
        "outputId": "4bd5a993-519b-45bc-bfe2-7de3a3c9ae90"
      },
      "source": [
        "df_diet_loss"
      ],
      "execution_count": 326,
      "outputs": [
        {
          "output_type": "execute_result",
          "data": {
            "text/html": [
              "<div>\n",
              "<style scoped>\n",
              "    .dataframe tbody tr th:only-of-type {\n",
              "        vertical-align: middle;\n",
              "    }\n",
              "\n",
              "    .dataframe tbody tr th {\n",
              "        vertical-align: top;\n",
              "    }\n",
              "\n",
              "    .dataframe thead th {\n",
              "        text-align: right;\n",
              "    }\n",
              "</style>\n",
              "<table border=\"1\" class=\"dataframe\">\n",
              "  <thead>\n",
              "    <tr style=\"text-align: right;\">\n",
              "      <th></th>\n",
              "      <th>Diet</th>\n",
              "      <th>weightloss</th>\n",
              "    </tr>\n",
              "  </thead>\n",
              "  <tbody>\n",
              "    <tr>\n",
              "      <th>0</th>\n",
              "      <td>2</td>\n",
              "      <td>0.0</td>\n",
              "    </tr>\n",
              "    <tr>\n",
              "      <th>1</th>\n",
              "      <td>2</td>\n",
              "      <td>0.0</td>\n",
              "    </tr>\n",
              "    <tr>\n",
              "      <th>2</th>\n",
              "      <td>1</td>\n",
              "      <td>3.8</td>\n",
              "    </tr>\n",
              "    <tr>\n",
              "      <th>3</th>\n",
              "      <td>1</td>\n",
              "      <td>6.0</td>\n",
              "    </tr>\n",
              "    <tr>\n",
              "      <th>4</th>\n",
              "      <td>1</td>\n",
              "      <td>0.7</td>\n",
              "    </tr>\n",
              "    <tr>\n",
              "      <th>...</th>\n",
              "      <td>...</td>\n",
              "      <td>...</td>\n",
              "    </tr>\n",
              "    <tr>\n",
              "      <th>73</th>\n",
              "      <td>3</td>\n",
              "      <td>2.8</td>\n",
              "    </tr>\n",
              "    <tr>\n",
              "      <th>74</th>\n",
              "      <td>3</td>\n",
              "      <td>4.1</td>\n",
              "    </tr>\n",
              "    <tr>\n",
              "      <th>75</th>\n",
              "      <td>3</td>\n",
              "      <td>5.3</td>\n",
              "    </tr>\n",
              "    <tr>\n",
              "      <th>76</th>\n",
              "      <td>3</td>\n",
              "      <td>9.2</td>\n",
              "    </tr>\n",
              "    <tr>\n",
              "      <th>77</th>\n",
              "      <td>3</td>\n",
              "      <td>6.1</td>\n",
              "    </tr>\n",
              "  </tbody>\n",
              "</table>\n",
              "<p>78 rows × 2 columns</p>\n",
              "</div>"
            ],
            "text/plain": [
              "    Diet  weightloss\n",
              "0      2         0.0\n",
              "1      2         0.0\n",
              "2      1         3.8\n",
              "3      1         6.0\n",
              "4      1         0.7\n",
              "..   ...         ...\n",
              "73     3         2.8\n",
              "74     3         4.1\n",
              "75     3         5.3\n",
              "76     3         9.2\n",
              "77     3         6.1\n",
              "\n",
              "[78 rows x 2 columns]"
            ]
          },
          "metadata": {
            "tags": []
          },
          "execution_count": 326
        }
      ]
    },
    {
      "cell_type": "code",
      "metadata": {
        "colab": {
          "base_uri": "https://localhost:8080/",
          "height": 279
        },
        "id": "lEQki_LGGjd1",
        "outputId": "8f10fa3d-c737-4e1d-c501-8be9f5442401"
      },
      "source": [
        "sns.boxplot(x='Diet',y='weightloss',data = df_diet_loss, color='red')\n",
        "sns.swarmplot(x='Diet',y='weightloss', data = df_diet_loss, color='black')\n",
        "plt.show()"
      ],
      "execution_count": 327,
      "outputs": [
        {
          "output_type": "display_data",
          "data": {
            "image/png": "[encoded data removed]",
            "text/plain": [
              "<Figure size 432x288 with 1 Axes>"
            ]
          },
          "metadata": {
            "tags": [],
            "needs_background": "light"
          }
        }
      ]
    },
    {
      "cell_type": "code",
      "metadata": {
        "colab": {
          "base_uri": "https://localhost:8080/",
          "height": 357
        },
        "id": "juhd1R6VXlJg",
        "outputId": "5fbf42be-0500-4f10-d43a-4382a722d70a"
      },
      "source": [
        "weightloss_1 = []\n",
        "weightloss_2 = []\n",
        "weightloss_3 = []\n",
        "wl = df_diet_loss[\"weightloss\"]\n",
        "diet = df_diet_loss['Diet']\n",
        "for i in range(1, len(df_diet_loss)):\n",
        "    if diet[i] == 1 :\n",
        "        weightloss_1.append(wl[i])\n",
        "    if diet[i] == 2:\n",
        "        weightloss_2.append(wl[i])\n",
        "    if diet[i] == 3:\n",
        "        weightloss_3.append(wl[i])\n",
        "    \n",
        "diet_weight_loss = list(zip(weightloss_1, weightloss_2, weightloss_3))\n",
        "df_1 =  pd.DataFrame(diet_weight_loss, columns = (\"Diet 1\", \"Diet 2\", \"Diet 3\"))\n",
        "df_1.head(10)"
      ],
      "execution_count": 328,
      "outputs": [
        {
          "output_type": "execute_result",
          "data": {
            "text/html": [
              "<div>\n",
              "<style scoped>\n",
              "    .dataframe tbody tr th:only-of-type {\n",
              "        vertical-align: middle;\n",
              "    }\n",
              "\n",
              "    .dataframe tbody tr th {\n",
              "        vertical-align: top;\n",
              "    }\n",
              "\n",
              "    .dataframe thead th {\n",
              "        text-align: right;\n",
              "    }\n",
              "</style>\n",
              "<table border=\"1\" class=\"dataframe\">\n",
              "  <thead>\n",
              "    <tr style=\"text-align: right;\">\n",
              "      <th></th>\n",
              "      <th>Diet 1</th>\n",
              "      <th>Diet 2</th>\n",
              "      <th>Diet 3</th>\n",
              "    </tr>\n",
              "  </thead>\n",
              "  <tbody>\n",
              "    <tr>\n",
              "      <th>0</th>\n",
              "      <td>3.8</td>\n",
              "      <td>0.0</td>\n",
              "      <td>7.0</td>\n",
              "    </tr>\n",
              "    <tr>\n",
              "      <th>1</th>\n",
              "      <td>6.0</td>\n",
              "      <td>-2.1</td>\n",
              "      <td>5.6</td>\n",
              "    </tr>\n",
              "    <tr>\n",
              "      <th>2</th>\n",
              "      <td>0.7</td>\n",
              "      <td>2.0</td>\n",
              "      <td>3.4</td>\n",
              "    </tr>\n",
              "    <tr>\n",
              "      <th>3</th>\n",
              "      <td>2.9</td>\n",
              "      <td>1.7</td>\n",
              "      <td>6.8</td>\n",
              "    </tr>\n",
              "    <tr>\n",
              "      <th>4</th>\n",
              "      <td>2.8</td>\n",
              "      <td>4.3</td>\n",
              "      <td>7.8</td>\n",
              "    </tr>\n",
              "    <tr>\n",
              "      <th>5</th>\n",
              "      <td>2.0</td>\n",
              "      <td>7.0</td>\n",
              "      <td>5.4</td>\n",
              "    </tr>\n",
              "    <tr>\n",
              "      <th>6</th>\n",
              "      <td>2.0</td>\n",
              "      <td>0.6</td>\n",
              "      <td>6.8</td>\n",
              "    </tr>\n",
              "    <tr>\n",
              "      <th>7</th>\n",
              "      <td>8.5</td>\n",
              "      <td>2.7</td>\n",
              "      <td>7.2</td>\n",
              "    </tr>\n",
              "    <tr>\n",
              "      <th>8</th>\n",
              "      <td>1.9</td>\n",
              "      <td>3.6</td>\n",
              "      <td>7.0</td>\n",
              "    </tr>\n",
              "    <tr>\n",
              "      <th>9</th>\n",
              "      <td>3.1</td>\n",
              "      <td>3.0</td>\n",
              "      <td>7.3</td>\n",
              "    </tr>\n",
              "  </tbody>\n",
              "</table>\n",
              "</div>"
            ],
            "text/plain": [
              "   Diet 1  Diet 2  Diet 3\n",
              "0     3.8     0.0     7.0\n",
              "1     6.0    -2.1     5.6\n",
              "2     0.7     2.0     3.4\n",
              "3     2.9     1.7     6.8\n",
              "4     2.8     4.3     7.8\n",
              "5     2.0     7.0     5.4\n",
              "6     2.0     0.6     6.8\n",
              "7     8.5     2.7     7.2\n",
              "8     1.9     3.6     7.0\n",
              "9     3.1     3.0     7.3"
            ]
          },
          "metadata": {
            "tags": []
          },
          "execution_count": 328
        }
      ]
    },
    {
      "cell_type": "markdown",
      "metadata": {
        "id": "9P7pqAIfgpAf"
      },
      "source": [
        "##Kiểm tra mẫu có tuân theo phân phối chuẩn hay không"
      ]
    },
    {
      "cell_type": "markdown",
      "metadata": {
        "id": "aqFtFg0JhN7d"
      },
      "source": [
        "**Phát biểu giả thuyết:**\n",
        "\n",
        "$H_{0}$: Mẫu tuân theo phân phối chuẩn\n",
        "\n",
        "$H_{a}$: Mẫu không tuân theo phân phối chuẩn"
      ]
    },
    {
      "cell_type": "code",
      "metadata": {
        "colab": {
          "base_uri": "https://localhost:8080/",
          "height": 544
        },
        "id": "ozmfF9a9c8B1",
        "outputId": "6b57efee-2eab-4816-9b0a-cd1732a6ffba"
      },
      "source": [
        "kt_phan_phoi_chuan(df_1['Diet 1'])\n",
        "qq_plot(df_1['Diet 1'])\n",
        "hist_plot(df_1['Diet 1'])"
      ],
      "execution_count": 329,
      "outputs": [
        {
          "output_type": "stream",
          "text": [
            "Chưa có bằng chứng thống kê để bác bỏ giả thuyết H0. Điều này ngụ ý rằng các mẫu hiện tại tuân theo luật phân phối chuẩn\n"
          ],
          "name": "stdout"
        },
        {
          "output_type": "display_data",
          "data": {
            "image/png": "[encoded data removed]",
            "text/plain": [
              "<Figure size 432x288 with 1 Axes>"
            ]
          },
          "metadata": {
            "tags": [],
            "needs_background": "light"
          }
        },
        {
          "output_type": "display_data",
          "data": {
            "image/png": "[encoded data removed]",
            "text/plain": [
              "<Figure size 432x288 with 1 Axes>"
            ]
          },
          "metadata": {
            "tags": [],
            "needs_background": "light"
          }
        }
      ]
    },
    {
      "cell_type": "code",
      "metadata": {
        "colab": {
          "base_uri": "https://localhost:8080/",
          "height": 544
        },
        "id": "-5syo_OJgJz2",
        "outputId": "06888353-ef68-4454-c740-334f912607ad"
      },
      "source": [
        "kt_phan_phoi_chuan(df_1['Diet 2'])\n",
        "qq_plot(df_1['Diet 2'])\n",
        "hist_plot(df_1['Diet 2'])"
      ],
      "execution_count": 330,
      "outputs": [
        {
          "output_type": "stream",
          "text": [
            "Chưa có bằng chứng thống kê để bác bỏ giả thuyết H0. Điều này ngụ ý rằng các mẫu hiện tại tuân theo luật phân phối chuẩn\n"
          ],
          "name": "stdout"
        },
        {
          "output_type": "display_data",
          "data": {
            "image/png": "[encoded data removed]",
            "text/plain": [
              "<Figure size 432x288 with 1 Axes>"
            ]
          },
          "metadata": {
            "tags": [],
            "needs_background": "light"
          }
        },
        {
          "output_type": "display_data",
          "data": {
            "image/png": "[encoded data removed]",
            "text/plain": [
              "<Figure size 432x288 with 1 Axes>"
            ]
          },
          "metadata": {
            "tags": [],
            "needs_background": "light"
          }
        }
      ]
    },
    {
      "cell_type": "code",
      "metadata": {
        "colab": {
          "base_uri": "https://localhost:8080/",
          "height": 544
        },
        "id": "kjHU6r5-gcQl",
        "outputId": "1b92ef98-bd2b-438b-f607-8733792a717d"
      },
      "source": [
        "kt_phan_phoi_chuan(df_1['Diet 3'])\n",
        "qq_plot(df_1['Diet 3'])\n",
        "hist_plot(df_1['Diet 3'])"
      ],
      "execution_count": 331,
      "outputs": [
        {
          "output_type": "stream",
          "text": [
            "Chưa có bằng chứng thống kê để bác bỏ giả thuyết H0. Điều này ngụ ý rằng các mẫu hiện tại tuân theo luật phân phối chuẩn\n"
          ],
          "name": "stdout"
        },
        {
          "output_type": "display_data",
          "data": {
            "image/png": "[encoded data removed]",
            "text/plain": [
              "<Figure size 432x288 with 1 Axes>"
            ]
          },
          "metadata": {
            "tags": [],
            "needs_background": "light"
          }
        },
        {
          "output_type": "display_data",
          "data": {
            "image/png": "[encoded data removed]",
            "text/plain": [
              "<Figure size 432x288 with 1 Axes>"
            ]
          },
          "metadata": {
            "tags": [],
            "needs_background": "light"
          }
        }
      ]
    },
    {
      "cell_type": "markdown",
      "metadata": {
        "id": "Scwkc1yxfwkd"
      },
      "source": [
        "##Kiểm định ANOVA"
      ]
    },
    {
      "cell_type": "code",
      "metadata": {
        "id": "gYiOiLQVQtpM"
      },
      "source": [
        "model = ols('weightloss ~ C(Diet)', data=df_diet_loss).fit()\n",
        "anova_table = sm.stats.anova_lm(model, typ=2)"
      ],
      "execution_count": 332,
      "outputs": []
    },
    {
      "cell_type": "code",
      "metadata": {
        "colab": {
          "base_uri": "https://localhost:8080/",
          "height": 110
        },
        "id": "TW4v4DrYRM1l",
        "outputId": "19ff58e8-8c75-4a9f-f145-d5e659eb50e5"
      },
      "source": [
        "anova_table"
      ],
      "execution_count": 333,
      "outputs": [
        {
          "output_type": "execute_result",
          "data": {
            "text/html": [
              "<div>\n",
              "<style scoped>\n",
              "    .dataframe tbody tr th:only-of-type {\n",
              "        vertical-align: middle;\n",
              "    }\n",
              "\n",
              "    .dataframe tbody tr th {\n",
              "        vertical-align: top;\n",
              "    }\n",
              "\n",
              "    .dataframe thead th {\n",
              "        text-align: right;\n",
              "    }\n",
              "</style>\n",
              "<table border=\"1\" class=\"dataframe\">\n",
              "  <thead>\n",
              "    <tr style=\"text-align: right;\">\n",
              "      <th></th>\n",
              "      <th>sum_sq</th>\n",
              "      <th>df</th>\n",
              "      <th>F</th>\n",
              "      <th>PR(&gt;F)</th>\n",
              "    </tr>\n",
              "  </thead>\n",
              "  <tbody>\n",
              "    <tr>\n",
              "      <th>C(Diet)</th>\n",
              "      <td>71.093689</td>\n",
              "      <td>2.0</td>\n",
              "      <td>6.197447</td>\n",
              "      <td>0.003229</td>\n",
              "    </tr>\n",
              "    <tr>\n",
              "      <th>Residual</th>\n",
              "      <td>430.179259</td>\n",
              "      <td>75.0</td>\n",
              "      <td>NaN</td>\n",
              "      <td>NaN</td>\n",
              "    </tr>\n",
              "  </tbody>\n",
              "</table>\n",
              "</div>"
            ],
            "text/plain": [
              "              sum_sq    df         F    PR(>F)\n",
              "C(Diet)    71.093689   2.0  6.197447  0.003229\n",
              "Residual  430.179259  75.0       NaN       NaN"
            ]
          },
          "metadata": {
            "tags": []
          },
          "execution_count": 333
        }
      ]
    },
    {
      "cell_type": "code",
      "metadata": {
        "colab": {
          "base_uri": "https://localhost:8080/",
          "height": 80
        },
        "id": "1lHPrPhtV8IA",
        "outputId": "1581063e-2b22-4164-bdc7-2706e1be9edc"
      },
      "source": [
        "p = {}\n",
        "p['f_score'] = anova_table['F'][0]\n",
        "p['p_value'] = anova_table['PR(>F)'][0]\n",
        "results(p)"
      ],
      "execution_count": 334,
      "outputs": [
        {
          "output_type": "execute_result",
          "data": {
            "text/html": [
              "<div>\n",
              "<style scoped>\n",
              "    .dataframe tbody tr th:only-of-type {\n",
              "        vertical-align: middle;\n",
              "    }\n",
              "\n",
              "    .dataframe tbody tr th {\n",
              "        vertical-align: top;\n",
              "    }\n",
              "\n",
              "    .dataframe thead th {\n",
              "        text-align: right;\n",
              "    }\n",
              "</style>\n",
              "<table border=\"1\" class=\"dataframe\">\n",
              "  <thead>\n",
              "    <tr style=\"text-align: right;\">\n",
              "      <th></th>\n",
              "      <th>f_score</th>\n",
              "      <th>p_value</th>\n",
              "      <th>KetLuan</th>\n",
              "    </tr>\n",
              "  </thead>\n",
              "  <tbody>\n",
              "    <tr>\n",
              "      <th></th>\n",
              "      <td>6.197447</td>\n",
              "      <td>0.003229</td>\n",
              "      <td>Chấp nhận H1 với mức ý nghĩa 0.05</td>\n",
              "    </tr>\n",
              "  </tbody>\n",
              "</table>\n",
              "</div>"
            ],
            "text/plain": [
              "   f_score   p_value                            KetLuan\n",
              "  6.197447  0.003229  Chấp nhận H1 với mức ý nghĩa 0.05"
            ]
          },
          "metadata": {
            "tags": []
          },
          "execution_count": 334
        }
      ]
    },
    {
      "cell_type": "markdown",
      "metadata": {
        "id": "hiyor4KYyTzN"
      },
      "source": [
        "*Điều này ngụ ý rằng: Có ít nhất một cặp phương án giảm cân có hiệu quả khác nhau*"
      ]
    },
    {
      "cell_type": "markdown",
      "metadata": {
        "id": "mIxD93nrg9gx"
      },
      "source": [
        "##Kiểm tra hậu nghiệm"
      ]
    },
    {
      "cell_type": "code",
      "metadata": {
        "id": "QGA5TRJ1WQFv"
      },
      "source": [
        "tukey = pairwise_tukeyhsd(endog=df_diet_loss['weightloss'],\n",
        "                         groups=df_diet_loss['Diet'],\n",
        "                         alpha=0.05)"
      ],
      "execution_count": 335,
      "outputs": []
    },
    {
      "cell_type": "code",
      "metadata": {
        "colab": {
          "base_uri": "https://localhost:8080/",
          "height": 0
        },
        "id": "_Mk4iUKXWYDR",
        "outputId": "d1474bd1-00a5-460c-e2f7-6798fbb2f0af"
      },
      "source": [
        "tukey.summary()"
      ],
      "execution_count": 336,
      "outputs": [
        {
          "output_type": "execute_result",
          "data": {
            "text/html": [
              "<table class=\"simpletable\">\n",
              "<caption>Multiple Comparison of Means - Tukey HSD, FWER=0.05</caption>\n",
              "<tr>\n",
              "  <th>group1</th> <th>group2</th> <th>meandiff</th>  <th>p-adj</th>  <th>lower</th>   <th>upper</th> <th>reject</th>\n",
              "</tr>\n",
              "<tr>\n",
              "     <td>1</td>      <td>2</td>    <td>-0.2741</td>   <td>0.9</td>  <td>-1.8806</td> <td>1.3325</td>  <td>False</td>\n",
              "</tr>\n",
              "<tr>\n",
              "     <td>1</td>      <td>3</td>    <td>1.8481</td>  <td>0.0201</td> <td>0.2416</td>  <td>3.4547</td>  <td>True</td> \n",
              "</tr>\n",
              "<tr>\n",
              "     <td>2</td>      <td>3</td>    <td>2.1222</td>  <td>0.0048</td> <td>0.5636</td>  <td>3.6808</td>  <td>True</td> \n",
              "</tr>\n",
              "</table>"
            ],
            "text/plain": [
              "<class 'statsmodels.iolib.table.SimpleTable'>"
            ]
          },
          "metadata": {
            "tags": []
          },
          "execution_count": 336
        }
      ]
    },
    {
      "cell_type": "markdown",
      "metadata": {
        "id": "VGFAJUAbhDoz"
      },
      "source": [
        "# Nghiên cứu về sự giảm cân với giới tính khác nhau"
      ]
    },
    {
      "cell_type": "markdown",
      "metadata": {
        "id": "12hUNMCihpIA"
      },
      "source": [
        "**Phát biểu giả thuyết:**\n",
        "\n",
        "$H_{0}$: Không có sự khác biệt về hiệu quả giảm cân so với giới tính khác nhau\n",
        "\n",
        "$H_{a}$: Có sự khác nhau về hiệu quả giảm cân so về giới tính khác nhau"
      ]
    },
    {
      "cell_type": "code",
      "metadata": {
        "colab": {
          "base_uri": "https://localhost:8080/",
          "height": 417
        },
        "id": "B_bWS0kJwcKT",
        "outputId": "dbf82c19-f34d-4693-89b7-7b8c56ff4c92"
      },
      "source": [
        "df_gen_losingweight = df[['gender','weightloss']].copy()\n",
        "df_gen_losingweight = df_gen_losingweight.replace(r'^\\s*$', np.nan, regex=True)\n",
        "df_gen_losingweight = df_gen_losingweight.dropna()\n",
        "df_gen_losingweight"
      ],
      "execution_count": 337,
      "outputs": [
        {
          "output_type": "execute_result",
          "data": {
            "text/html": [
              "<div>\n",
              "<style scoped>\n",
              "    .dataframe tbody tr th:only-of-type {\n",
              "        vertical-align: middle;\n",
              "    }\n",
              "\n",
              "    .dataframe tbody tr th {\n",
              "        vertical-align: top;\n",
              "    }\n",
              "\n",
              "    .dataframe thead th {\n",
              "        text-align: right;\n",
              "    }\n",
              "</style>\n",
              "<table border=\"1\" class=\"dataframe\">\n",
              "  <thead>\n",
              "    <tr style=\"text-align: right;\">\n",
              "      <th></th>\n",
              "      <th>gender</th>\n",
              "      <th>weightloss</th>\n",
              "    </tr>\n",
              "  </thead>\n",
              "  <tbody>\n",
              "    <tr>\n",
              "      <th>2</th>\n",
              "      <td>0</td>\n",
              "      <td>3.8</td>\n",
              "    </tr>\n",
              "    <tr>\n",
              "      <th>3</th>\n",
              "      <td>0</td>\n",
              "      <td>6.0</td>\n",
              "    </tr>\n",
              "    <tr>\n",
              "      <th>4</th>\n",
              "      <td>0</td>\n",
              "      <td>0.7</td>\n",
              "    </tr>\n",
              "    <tr>\n",
              "      <th>5</th>\n",
              "      <td>0</td>\n",
              "      <td>2.9</td>\n",
              "    </tr>\n",
              "    <tr>\n",
              "      <th>6</th>\n",
              "      <td>0</td>\n",
              "      <td>2.8</td>\n",
              "    </tr>\n",
              "    <tr>\n",
              "      <th>...</th>\n",
              "      <td>...</td>\n",
              "      <td>...</td>\n",
              "    </tr>\n",
              "    <tr>\n",
              "      <th>73</th>\n",
              "      <td>1</td>\n",
              "      <td>2.8</td>\n",
              "    </tr>\n",
              "    <tr>\n",
              "      <th>74</th>\n",
              "      <td>1</td>\n",
              "      <td>4.1</td>\n",
              "    </tr>\n",
              "    <tr>\n",
              "      <th>75</th>\n",
              "      <td>1</td>\n",
              "      <td>5.3</td>\n",
              "    </tr>\n",
              "    <tr>\n",
              "      <th>76</th>\n",
              "      <td>1</td>\n",
              "      <td>9.2</td>\n",
              "    </tr>\n",
              "    <tr>\n",
              "      <th>77</th>\n",
              "      <td>1</td>\n",
              "      <td>6.1</td>\n",
              "    </tr>\n",
              "  </tbody>\n",
              "</table>\n",
              "<p>76 rows × 2 columns</p>\n",
              "</div>"
            ],
            "text/plain": [
              "   gender  weightloss\n",
              "2       0         3.8\n",
              "3       0         6.0\n",
              "4       0         0.7\n",
              "5       0         2.9\n",
              "6       0         2.8\n",
              "..    ...         ...\n",
              "73      1         2.8\n",
              "74      1         4.1\n",
              "75      1         5.3\n",
              "76      1         9.2\n",
              "77      1         6.1\n",
              "\n",
              "[76 rows x 2 columns]"
            ]
          },
          "metadata": {
            "tags": []
          },
          "execution_count": 337
        }
      ]
    },
    {
      "cell_type": "code",
      "metadata": {
        "colab": {
          "base_uri": "https://localhost:8080/",
          "height": 279
        },
        "id": "Lo4SpuhTw8o-",
        "outputId": "9ea50459-7bc9-4dd4-c40d-8cc883cf5de8"
      },
      "source": [
        "sns.boxplot(x='gender',y='weightloss',data = df_gen_losingweight, color='red')\n",
        "sns.swarmplot(x='gender',y='weightloss', data = df_gen_losingweight, color='black')\n",
        "plt.show()"
      ],
      "execution_count": 338,
      "outputs": [
        {
          "output_type": "display_data",
          "data": {
            "image/png": "[encoded data removed]",
            "text/plain": [
              "<Figure size 432x288 with 1 Axes>"
            ]
          },
          "metadata": {
            "tags": [],
            "needs_background": "light"
          }
        }
      ]
    },
    {
      "cell_type": "markdown",
      "metadata": {
        "id": "LhBAXhlVx0V8"
      },
      "source": [
        "##Kiểm định ANOVA"
      ]
    },
    {
      "cell_type": "code",
      "metadata": {
        "id": "3T54TPlexG9N"
      },
      "source": [
        "model_2 = ols('weightloss ~ C(gender)', data=df_gen_losingweight).fit()\n",
        "anova_table = sm.stats.anova_lm(model_2, typ=2)"
      ],
      "execution_count": 339,
      "outputs": []
    },
    {
      "cell_type": "code",
      "metadata": {
        "colab": {
          "base_uri": "https://localhost:8080/",
          "height": 110
        },
        "id": "VK2sywTDxVId",
        "outputId": "50b667d9-94f0-4928-e405-5ecd00c02d07"
      },
      "source": [
        "anova_table"
      ],
      "execution_count": 340,
      "outputs": [
        {
          "output_type": "execute_result",
          "data": {
            "text/html": [
              "<div>\n",
              "<style scoped>\n",
              "    .dataframe tbody tr th:only-of-type {\n",
              "        vertical-align: middle;\n",
              "    }\n",
              "\n",
              "    .dataframe tbody tr th {\n",
              "        vertical-align: top;\n",
              "    }\n",
              "\n",
              "    .dataframe thead th {\n",
              "        text-align: right;\n",
              "    }\n",
              "</style>\n",
              "<table border=\"1\" class=\"dataframe\">\n",
              "  <thead>\n",
              "    <tr style=\"text-align: right;\">\n",
              "      <th></th>\n",
              "      <th>sum_sq</th>\n",
              "      <th>df</th>\n",
              "      <th>F</th>\n",
              "      <th>PR(&gt;F)</th>\n",
              "    </tr>\n",
              "  </thead>\n",
              "  <tbody>\n",
              "    <tr>\n",
              "      <th>C(gender)</th>\n",
              "      <td>0.278485</td>\n",
              "      <td>1.0</td>\n",
              "      <td>0.043786</td>\n",
              "      <td>0.834827</td>\n",
              "    </tr>\n",
              "    <tr>\n",
              "      <th>Residual</th>\n",
              "      <td>470.650331</td>\n",
              "      <td>74.0</td>\n",
              "      <td>NaN</td>\n",
              "      <td>NaN</td>\n",
              "    </tr>\n",
              "  </tbody>\n",
              "</table>\n",
              "</div>"
            ],
            "text/plain": [
              "               sum_sq    df         F    PR(>F)\n",
              "C(gender)    0.278485   1.0  0.043786  0.834827\n",
              "Residual   470.650331  74.0       NaN       NaN"
            ]
          },
          "metadata": {
            "tags": []
          },
          "execution_count": 340
        }
      ]
    },
    {
      "cell_type": "code",
      "metadata": {
        "colab": {
          "base_uri": "https://localhost:8080/",
          "height": 80
        },
        "id": "50evCAxPxY20",
        "outputId": "52a4d724-09e9-4162-e1a3-d94f94c87aa9"
      },
      "source": [
        "p = {}\n",
        "p['f_score'] = anova_table['F'][0]\n",
        "p['p_value'] = anova_table['PR(>F)'][0]\n",
        "results(p)"
      ],
      "execution_count": 341,
      "outputs": [
        {
          "output_type": "execute_result",
          "data": {
            "text/html": [
              "<div>\n",
              "<style scoped>\n",
              "    .dataframe tbody tr th:only-of-type {\n",
              "        vertical-align: middle;\n",
              "    }\n",
              "\n",
              "    .dataframe tbody tr th {\n",
              "        vertical-align: top;\n",
              "    }\n",
              "\n",
              "    .dataframe thead th {\n",
              "        text-align: right;\n",
              "    }\n",
              "</style>\n",
              "<table border=\"1\" class=\"dataframe\">\n",
              "  <thead>\n",
              "    <tr style=\"text-align: right;\">\n",
              "      <th></th>\n",
              "      <th>f_score</th>\n",
              "      <th>p_value</th>\n",
              "      <th>KetLuan</th>\n",
              "    </tr>\n",
              "  </thead>\n",
              "  <tbody>\n",
              "    <tr>\n",
              "      <th></th>\n",
              "      <td>0.043786</td>\n",
              "      <td>0.834827</td>\n",
              "      <td>Chấp nhận H0 với mức ý nghĩa 0.05</td>\n",
              "    </tr>\n",
              "  </tbody>\n",
              "</table>\n",
              "</div>"
            ],
            "text/plain": [
              "   f_score   p_value                            KetLuan\n",
              "  0.043786  0.834827  Chấp nhận H0 với mức ý nghĩa 0.05"
            ]
          },
          "metadata": {
            "tags": []
          },
          "execution_count": 341
        }
      ]
    },
    {
      "cell_type": "markdown",
      "metadata": {
        "id": "BoU0jsGLx7i1"
      },
      "source": [
        "*Điều này ngụ ý rằng: Giới tính không liên quan đến hiệu quả giảm cân*"
      ]
    },
    {
      "cell_type": "markdown",
      "metadata": {
        "id": "P8FctFn4xbNc"
      },
      "source": [
        "**Vì đã chấp nhận $H_{0}$ nên không cần tiến hành kiểm tra hậu nghiệm**"
      ]
    },
    {
      "cell_type": "markdown",
      "metadata": {
        "id": "ppq6H3rEzdKG"
      },
      "source": [
        "#Kiểm tra mẫu có tuân theo phân phối chuẩn không"
      ]
    },
    {
      "cell_type": "markdown",
      "metadata": {
        "id": "sPz6JIrOznz0"
      },
      "source": [
        "**Phát biểu giả thuyết:**\n",
        "\n",
        "$H_{0}$: Mẫu tuân theo phân phối chuẩn\n",
        "\n",
        "$H_{a}$: Mẫu không tuân theo phân phối chuẩn"
      ]
    },
    {
      "cell_type": "code",
      "metadata": {
        "colab": {
          "base_uri": "https://localhost:8080/"
        },
        "id": "apFcN-CIzj72",
        "outputId": "09368d60-f2af-4ff3-da82-e3125c48b309"
      },
      "source": [
        "p_v = stats.shapiro(model_2.resid)[1]\n",
        "if p_v > 0.05:\n",
        "    print(f'Không có bằng chứng thống kê để bác bỏ giả thiết H0. Điều này ngụ ý Mẫu tuân theo phân phối chuẩn')\n",
        "else:\n",
        "    print(f'Có bằng chứng thống kê để bác bỏ giả thiết H0. Điều này ngụ ý Mẫu không tuân theo phân phối chuẩn (H1)')"
      ],
      "execution_count": 342,
      "outputs": [
        {
          "output_type": "stream",
          "text": [
            "Không có bằng chứng thống kê để bác bỏ giả thiết H0. Điều này ngụ ý Mẫu tuân theo phân phối chuẩn\n"
          ],
          "name": "stdout"
        }
      ]
    },
    {
      "cell_type": "code",
      "metadata": {
        "colab": {
          "base_uri": "https://localhost:8080/",
          "height": 281
        },
        "id": "-4hFPXjKz8Op",
        "outputId": "4a977128-f67e-4a3c-c3ed-fc94fd0d4a12"
      },
      "source": [
        "fig, ax = plt.subplots(1,2)\n",
        "sm.qqplot(model_2.resid,line='s', ax=ax[0])\n",
        "plt.xlabel(\"Theoretical Quantiles\")\n",
        "plt.ylabel(\"Sample Residuals\")\n",
        "\n",
        "plt.hist(model_2.resid, bins='auto', histtype='bar', ec='k')\n",
        "plt.xlabel('Residuals')\n",
        "plt.ylabel('Frequency')\n",
        "plt.show()"
      ],
      "execution_count": 343,
      "outputs": [
        {
          "output_type": "display_data",
          "data": {
            "image/png": "[encoded data removed]",
            "text/plain": [
              "<Figure size 432x288 with 2 Axes>"
            ]
          },
          "metadata": {
            "tags": [],
            "needs_background": "light"
          }
        }
      ]
    }
  ]
}