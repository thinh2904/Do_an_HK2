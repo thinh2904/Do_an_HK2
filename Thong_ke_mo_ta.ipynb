{
  "nbformat": 4,
  "nbformat_minor": 0,
  "metadata": {
    "colab": {
      "name": "Thong_ke_mo_ta.ipynb",
      "provenance": []
    },
    "kernelspec": {
      "name": "python3",
      "display_name": "Python 3"
    },
    "language_info": {
      "name": "python"
    }
  },
  "cells": [
    {
      "cell_type": "markdown",
      "metadata": {
        "id": "DJ3DkNTDOO6t"
      },
      "source": [
        "##ĐỒ ÁN KẾT THÚC HỌC PHẦN\n",
        "\n",
        "##THỐNG KÊ MÔ TẢ"
      ]
    },
    {
      "cell_type": "code",
      "metadata": {
        "id": "mqN4udGOptub"
      },
      "source": [
        "import numpy as np\n",
        "import pandas as pd\n",
        "from scipy import stats\n",
        "import seaborn as sns\n",
        "from matplotlib import pyplot as plt\n",
        "import statsmodels.api as sm"
      ],
      "execution_count": 44,
      "outputs": []
    },
    {
      "cell_type": "markdown",
      "metadata": {
        "id": "oiLvThvNDEHR"
      },
      "source": [
        "Đọc dữ liệu"
      ]
    },
    {
      "cell_type": "code",
      "metadata": {
        "id": "t9iWt-uCOLaZ"
      },
      "source": [
        "df = pd.read_csv('Inc_Exp_Data.csv')"
      ],
      "execution_count": 45,
      "outputs": []
    },
    {
      "cell_type": "code",
      "metadata": {
        "colab": {
          "base_uri": "https://localhost:8080/",
          "height": 357
        },
        "id": "reQNN1v6Ozyb",
        "outputId": "266bc581-5d5f-4a00-a81c-1ee8b864b1f3"
      },
      "source": [
        "df.head(10)"
      ],
      "execution_count": 46,
      "outputs": [
        {
          "output_type": "execute_result",
          "data": {
            "text/html": [
              "<div>\n",
              "<style scoped>\n",
              "    .dataframe tbody tr th:only-of-type {\n",
              "        vertical-align: middle;\n",
              "    }\n",
              "\n",
              "    .dataframe tbody tr th {\n",
              "        vertical-align: top;\n",
              "    }\n",
              "\n",
              "    .dataframe thead th {\n",
              "        text-align: right;\n",
              "    }\n",
              "</style>\n",
              "<table border=\"1\" class=\"dataframe\">\n",
              "  <thead>\n",
              "    <tr style=\"text-align: right;\">\n",
              "      <th></th>\n",
              "      <th>Mthly_HH_Income</th>\n",
              "      <th>Mthly_HH_Expense</th>\n",
              "      <th>No_of_Fly_Members</th>\n",
              "      <th>Emi_or_Rent_Amt</th>\n",
              "      <th>Annual_HH_Income</th>\n",
              "      <th>Highest_Qualified_Member</th>\n",
              "      <th>No_of_Earning_Members</th>\n",
              "    </tr>\n",
              "  </thead>\n",
              "  <tbody>\n",
              "    <tr>\n",
              "      <th>0</th>\n",
              "      <td>5000</td>\n",
              "      <td>8000</td>\n",
              "      <td>3</td>\n",
              "      <td>2000</td>\n",
              "      <td>64200</td>\n",
              "      <td>Under-Graduate</td>\n",
              "      <td>1</td>\n",
              "    </tr>\n",
              "    <tr>\n",
              "      <th>1</th>\n",
              "      <td>6000</td>\n",
              "      <td>7000</td>\n",
              "      <td>2</td>\n",
              "      <td>3000</td>\n",
              "      <td>79920</td>\n",
              "      <td>Illiterate</td>\n",
              "      <td>1</td>\n",
              "    </tr>\n",
              "    <tr>\n",
              "      <th>2</th>\n",
              "      <td>10000</td>\n",
              "      <td>4500</td>\n",
              "      <td>2</td>\n",
              "      <td>0</td>\n",
              "      <td>112800</td>\n",
              "      <td>Under-Graduate</td>\n",
              "      <td>1</td>\n",
              "    </tr>\n",
              "    <tr>\n",
              "      <th>3</th>\n",
              "      <td>10000</td>\n",
              "      <td>2000</td>\n",
              "      <td>1</td>\n",
              "      <td>0</td>\n",
              "      <td>97200</td>\n",
              "      <td>Illiterate</td>\n",
              "      <td>1</td>\n",
              "    </tr>\n",
              "    <tr>\n",
              "      <th>4</th>\n",
              "      <td>12500</td>\n",
              "      <td>12000</td>\n",
              "      <td>2</td>\n",
              "      <td>3000</td>\n",
              "      <td>147000</td>\n",
              "      <td>Graduate</td>\n",
              "      <td>1</td>\n",
              "    </tr>\n",
              "    <tr>\n",
              "      <th>5</th>\n",
              "      <td>14000</td>\n",
              "      <td>8000</td>\n",
              "      <td>2</td>\n",
              "      <td>0</td>\n",
              "      <td>196560</td>\n",
              "      <td>Graduate</td>\n",
              "      <td>1</td>\n",
              "    </tr>\n",
              "    <tr>\n",
              "      <th>6</th>\n",
              "      <td>15000</td>\n",
              "      <td>16000</td>\n",
              "      <td>3</td>\n",
              "      <td>35000</td>\n",
              "      <td>167400</td>\n",
              "      <td>Post-Graduate</td>\n",
              "      <td>1</td>\n",
              "    </tr>\n",
              "    <tr>\n",
              "      <th>7</th>\n",
              "      <td>18000</td>\n",
              "      <td>20000</td>\n",
              "      <td>5</td>\n",
              "      <td>8000</td>\n",
              "      <td>216000</td>\n",
              "      <td>Graduate</td>\n",
              "      <td>1</td>\n",
              "    </tr>\n",
              "    <tr>\n",
              "      <th>8</th>\n",
              "      <td>19000</td>\n",
              "      <td>9000</td>\n",
              "      <td>2</td>\n",
              "      <td>0</td>\n",
              "      <td>218880</td>\n",
              "      <td>Under-Graduate</td>\n",
              "      <td>1</td>\n",
              "    </tr>\n",
              "    <tr>\n",
              "      <th>9</th>\n",
              "      <td>20000</td>\n",
              "      <td>9000</td>\n",
              "      <td>4</td>\n",
              "      <td>0</td>\n",
              "      <td>220800</td>\n",
              "      <td>Under-Graduate</td>\n",
              "      <td>2</td>\n",
              "    </tr>\n",
              "  </tbody>\n",
              "</table>\n",
              "</div>"
            ],
            "text/plain": [
              "   Mthly_HH_Income  ...  No_of_Earning_Members\n",
              "0             5000  ...                      1\n",
              "1             6000  ...                      1\n",
              "2            10000  ...                      1\n",
              "3            10000  ...                      1\n",
              "4            12500  ...                      1\n",
              "5            14000  ...                      1\n",
              "6            15000  ...                      1\n",
              "7            18000  ...                      1\n",
              "8            19000  ...                      1\n",
              "9            20000  ...                      2\n",
              "\n",
              "[10 rows x 7 columns]"
            ]
          },
          "metadata": {
            "tags": []
          },
          "execution_count": 46
        }
      ]
    },
    {
      "cell_type": "markdown",
      "metadata": {
        "id": "6MqFYm1_DGVV"
      },
      "source": [
        "# Tạo hàm"
      ]
    },
    {
      "cell_type": "code",
      "metadata": {
        "id": "WSSf5ysjJ0eA"
      },
      "source": [
        "#Hàm thống kê mô tả với dữ liệu có giá trị định lượng\n",
        "def dinh_luong(a):\n",
        "  mo_ta = a.describe() #Thống kê mô tả\n",
        "  print(mo_ta)\n",
        "  #Chuẩn hóa dữ liệu để vẽ biểu đồ\n",
        "  mean = np.mean(a)\n",
        "  std = np.std(a,ddof=1)\n",
        "  b = np.linspace(np.min(a),np.max(a))\n",
        "  plt.plot(b, stats.norm.pdf(b, mean, std), color='blue')\n",
        "  plt.hist(a, color='red', edgecolor='black', density = True)\n",
        "  plt.show()"
      ],
      "execution_count": 47,
      "outputs": []
    },
    {
      "cell_type": "code",
      "metadata": {
        "id": "JG1__3iTMYTM"
      },
      "source": [
        "#Hàm thống kê mô tả với dữ liệu có giá trị định tính\n",
        "def dinh_tinh(a):\n",
        "  p = {}\n",
        "  x = []\n",
        "  y = []\n",
        "  b = a.value_counts() #Thống kê mô tả\n",
        "  print(b)\n",
        "  #Tạo một DataFrame từ bảng số liệu thống kê mô tả để vẽ biểu đồ\n",
        "  for i in b.index:\n",
        "    y.append(str(i))\n",
        "  for j in b:\n",
        "    x.append(j)\n",
        "  p = {'Levels':y, 'Số lượng':x}\n",
        "  data = pd.DataFrame(p)\n",
        "  sns.barplot(y = 'Levels', x = 'Số lượng', data = data)\n",
        "  plt.show()"
      ],
      "execution_count": 48,
      "outputs": []
    },
    {
      "cell_type": "markdown",
      "metadata": {
        "id": "1xU1BjJeDMDj"
      },
      "source": [
        "# Giá trị định lượng"
      ]
    },
    {
      "cell_type": "code",
      "metadata": {
        "colab": {
          "base_uri": "https://localhost:8080/",
          "height": 427
        },
        "id": "CIuT8F8CDQoc",
        "outputId": "5669f67e-8f5b-4448-b267-d03dc4796680"
      },
      "source": [
        "dinh_luong(df['Mthly_HH_Income'])"
      ],
      "execution_count": 49,
      "outputs": [
        {
          "output_type": "stream",
          "text": [
            "count        50.000000\n",
            "mean      41558.000000\n",
            "std       26097.908979\n",
            "min        5000.000000\n",
            "25%       23550.000000\n",
            "50%       35000.000000\n",
            "75%       50375.000000\n",
            "max      100000.000000\n",
            "Name: Mthly_HH_Income, dtype: float64\n"
          ],
          "name": "stdout"
        },
        {
          "output_type": "display_data",
          "data": {
            "image/png": "[encoded data removed]",
            "text/plain": [
              "<Figure size 432x288 with 1 Axes>"
            ]
          },
          "metadata": {
            "tags": [],
            "needs_background": "light"
          }
        }
      ]
    },
    {
      "cell_type": "code",
      "metadata": {
        "colab": {
          "base_uri": "https://localhost:8080/",
          "height": 427
        },
        "id": "AHlP0AFCDafi",
        "outputId": "4b99f2d2-2b14-4a2d-99d6-55fb23af8cd8"
      },
      "source": [
        "dinh_luong(df['Mthly_HH_Expense'])"
      ],
      "execution_count": 50,
      "outputs": [
        {
          "output_type": "stream",
          "text": [
            "count       50.000000\n",
            "mean     18818.000000\n",
            "std      12090.216824\n",
            "min       2000.000000\n",
            "25%      10000.000000\n",
            "50%      15500.000000\n",
            "75%      25000.000000\n",
            "max      50000.000000\n",
            "Name: Mthly_HH_Expense, dtype: float64\n"
          ],
          "name": "stdout"
        },
        {
          "output_type": "display_data",
          "data": {
            "image/png": "[encoded data removed]",
            "text/plain": [
              "<Figure size 432x288 with 1 Axes>"
            ]
          },
          "metadata": {
            "tags": [],
            "needs_background": "light"
          }
        }
      ]
    },
    {
      "cell_type": "code",
      "metadata": {
        "colab": {
          "base_uri": "https://localhost:8080/",
          "height": 416
        },
        "id": "NsEX5e22DjlC",
        "outputId": "277ff4a6-e078-4b01-cb7c-aeaf823484b9"
      },
      "source": [
        "dinh_luong(df['Emi_or_Rent_Amt'])"
      ],
      "execution_count": 51,
      "outputs": [
        {
          "output_type": "stream",
          "text": [
            "count       50.000000\n",
            "mean      3060.000000\n",
            "std       6241.434948\n",
            "min          0.000000\n",
            "25%          0.000000\n",
            "50%          0.000000\n",
            "75%       3500.000000\n",
            "max      35000.000000\n",
            "Name: Emi_or_Rent_Amt, dtype: float64\n"
          ],
          "name": "stdout"
        },
        {
          "output_type": "display_data",
          "data": {
            "image/png": "[encoded data removed]",
            "text/plain": [
              "<Figure size 432x288 with 1 Axes>"
            ]
          },
          "metadata": {
            "tags": [],
            "needs_background": "light"
          }
        }
      ]
    },
    {
      "cell_type": "code",
      "metadata": {
        "colab": {
          "base_uri": "https://localhost:8080/",
          "height": 440
        },
        "id": "sKWJi0GqDo72",
        "outputId": "867e45c6-d8dd-4b82-c8d3-2d377be36272"
      },
      "source": [
        "dinh_luong(df['Annual_HH_Income'])"
      ],
      "execution_count": 52,
      "outputs": [
        {
          "output_type": "stream",
          "text": [
            "count    5.000000e+01\n",
            "mean     4.900190e+05\n",
            "std      3.201358e+05\n",
            "min      6.420000e+04\n",
            "25%      2.587500e+05\n",
            "50%      4.474200e+05\n",
            "75%      5.947200e+05\n",
            "max      1.404000e+06\n",
            "Name: Annual_HH_Income, dtype: float64\n"
          ],
          "name": "stdout"
        },
        {
          "output_type": "display_data",
          "data": {
            "image/png": "[encoded data removed]",
            "text/plain": [
              "<Figure size 432x288 with 1 Axes>"
            ]
          },
          "metadata": {
            "tags": [],
            "needs_background": "light"
          }
        }
      ]
    },
    {
      "cell_type": "markdown",
      "metadata": {
        "id": "HRSGdXSwDyxN"
      },
      "source": [
        "# Giá trị định tính"
      ]
    },
    {
      "cell_type": "code",
      "metadata": {
        "colab": {
          "base_uri": "https://localhost:8080/",
          "height": 414
        },
        "id": "rU7dbBzjDyN9",
        "outputId": "13e99385-5b05-4d11-8e1b-4ef359f8eb94"
      },
      "source": [
        "dinh_tinh(df['No_of_Fly_Members'])"
      ],
      "execution_count": 53,
      "outputs": [
        {
          "output_type": "stream",
          "text": [
            "4    15\n",
            "6    10\n",
            "3     9\n",
            "2     8\n",
            "5     5\n",
            "7     2\n",
            "1     1\n",
            "Name: No_of_Fly_Members, dtype: int64\n"
          ],
          "name": "stdout"
        },
        {
          "output_type": "display_data",
          "data": {
            "image/png": "[encoded data removed]",
            "text/plain": [
              "<Figure size 432x288 with 1 Axes>"
            ]
          },
          "metadata": {
            "tags": [],
            "needs_background": "light"
          }
        }
      ]
    },
    {
      "cell_type": "code",
      "metadata": {
        "colab": {
          "base_uri": "https://localhost:8080/",
          "height": 381
        },
        "id": "AyDfTviID_1N",
        "outputId": "f145dc5a-0e22-483b-f1a1-bb9a18ccf20b"
      },
      "source": [
        "dinh_tinh(df['Highest_Qualified_Member'])"
      ],
      "execution_count": 54,
      "outputs": [
        {
          "output_type": "stream",
          "text": [
            "Graduate          19\n",
            "Under-Graduate    10\n",
            "Professional      10\n",
            "Post-Graduate      6\n",
            "Illiterate         5\n",
            "Name: Highest_Qualified_Member, dtype: int64\n"
          ],
          "name": "stdout"
        },
        {
          "output_type": "display_data",
          "data": {
            "image/png": "[encoded data removed]",
            "text/plain": [
              "<Figure size 432x288 with 1 Axes>"
            ]
          },
          "metadata": {
            "tags": [],
            "needs_background": "light"
          }
        }
      ]
    },
    {
      "cell_type": "code",
      "metadata": {
        "colab": {
          "base_uri": "https://localhost:8080/",
          "height": 364
        },
        "id": "mN1w5g1fEGkT",
        "outputId": "80653a79-5a9c-4277-eb68-af83a59ad8ec"
      },
      "source": [
        "dinh_tinh(df['No_of_Earning_Members'])"
      ],
      "execution_count": 55,
      "outputs": [
        {
          "output_type": "stream",
          "text": [
            "1    33\n",
            "2    12\n",
            "3     4\n",
            "4     1\n",
            "Name: No_of_Earning_Members, dtype: int64\n"
          ],
          "name": "stdout"
        },
        {
          "output_type": "display_data",
          "data": {
            "image/png": "[encoded data removed]",
            "text/plain": [
              "<Figure size 432x288 with 1 Axes>"
            ]
          },
          "metadata": {
            "tags": [],
            "needs_background": "light"
          }
        }
      ]
    }
  ]
}